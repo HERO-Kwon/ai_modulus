{
 "cells": [
  {
   "cell_type": "code",
   "execution_count": 1,
   "metadata": {},
   "outputs": [],
   "source": [
    "import numpy as np\n",
    "import pandas as pd\n",
    "import matplotlib.pyplot as plt\n",
    "import os\n",
    "\n",
    "import vtk\n",
    "import math\n",
    "from vtk.util import numpy_support\n",
    "\n",
    "from params import *"
   ]
  },
  {
   "cell_type": "code",
   "execution_count": 2,
   "metadata": {},
   "outputs": [],
   "source": [
    "def vti_reader(file_path):\n",
    "    reader = vtk.vtkXMLImageDataReader()\n",
    "    reader.SetFileName(file_path)\n",
    "    reader.Update()\n",
    "    data = reader.GetOutput()\n",
    "    \n",
    "    # vtk res\n",
    "    dataset = pd.DataFrame(np.array([numpy_support.vtk_to_numpy(data.GetPointData().GetArray(i)) for i in range(data.GetPointData().GetNumberOfArrays())])).transpose()\n",
    "    \n",
    "    dataset.columns=[data.GetPointData().GetArrayName(i) for i in range(data.GetPointData().GetNumberOfArrays())]\n",
    "    \n",
    "    # vtk coord\n",
    "    dimensions = data.GetDimensions()\n",
    "    spacing=data.GetSpacing()\n",
    "    origin=data.GetOrigin()\n",
    "    \n",
    "    coordinates=[]\n",
    "    \n",
    "    for k in range(dimensions[2]):\n",
    "        for j in range(dimensions[1]):\n",
    "            for i in range(dimensions[0]):\n",
    "                x = origin[0] + i * spacing[0]\n",
    "                y = origin[1] + j * spacing[1]\n",
    "                z = origin[2] + k * spacing[2]\n",
    "                coordinates.append((x,y,z))\n",
    "    dt_coordinates = pd.DataFrame(coordinates, columns=['x','y','z'])\n",
    "    \n",
    "    # result coord merge\n",
    "    return pd.merge(dt_coordinates, dataset, left_index=True, right_index=True)"
   ]
  },
  {
   "cell_type": "code",
   "execution_count": 3,
   "metadata": {},
   "outputs": [],
   "source": [
    "path_saved = '/home/hero/Git/ai_modulus/coating_modulus/outputs/'\n",
    "doe_name = 'twophase_coat_v10_1'"
   ]
  },
  {
   "cell_type": "code",
   "execution_count": 4,
   "metadata": {},
   "outputs": [],
   "source": [
    "truth_df = pd.read_csv('2023_pinn_datamodel_xy.csv')\n",
    "doe_truth = truth_df[truth_df['DOE']=='DOE0'][['contact1x','contact2x','contact3x']]"
   ]
  },
  {
   "cell_type": "code",
   "execution_count": 5,
   "metadata": {},
   "outputs": [
    {
     "ename": "FileNotFoundError",
     "evalue": "[Errno 2] No such file or directory: '/home/hero/Git/ai_modulus/coating_modulus/outputs/twophase_coat_v10_1_gcp'",
     "output_type": "error",
     "traceback": [
      "\u001b[0;31m---------------------------------------------------------------------------\u001b[0m",
      "\u001b[0;31mFileNotFoundError\u001b[0m                         Traceback (most recent call last)",
      "Cell \u001b[0;32mIn[5], line 1\u001b[0m\n\u001b[0;32m----> 1\u001b[0m dirnames \u001b[39m=\u001b[39m os\u001b[39m.\u001b[39;49mlistdir(path_saved\u001b[39m+\u001b[39;49mdoe_name)\n\u001b[1;32m      2\u001b[0m \u001b[39m# 'windows'를 포함하는 이름만 선택\u001b[39;00m\n\u001b[1;32m      3\u001b[0m dir_windows \u001b[39m=\u001b[39m [name \u001b[39mfor\u001b[39;00m name \u001b[39min\u001b[39;00m dirnames \u001b[39mif\u001b[39;00m \u001b[39m'\u001b[39m\u001b[39mwindow\u001b[39m\u001b[39m'\u001b[39m \u001b[39min\u001b[39;00m name\u001b[39m.\u001b[39mlower() ]\n",
      "\u001b[0;31mFileNotFoundError\u001b[0m: [Errno 2] No such file or directory: '/home/hero/Git/ai_modulus/coating_modulus/outputs/twophase_coat_v10_1_gcp'"
     ]
    }
   ],
   "source": [
    "dirnames = os.listdir(path_saved+doe_name)\n",
    "# 'windows'를 포함하는 이름만 선택\n",
    "dir_windows = [name for name in dirnames if 'window' in name.lower() ]\n",
    "dir_windows = dir_windows + [name for name in dirnames if 'initial' in name.lower() ]\n",
    "dir_windows.sort()"
   ]
  },
  {
   "cell_type": "code",
   "execution_count": null,
   "metadata": {},
   "outputs": [],
   "source": [
    "result_df = pd.DataFrame()"
   ]
  },
  {
   "cell_type": "code",
   "execution_count": null,
   "metadata": {},
   "outputs": [],
   "source": [
    "for i,window_name in enumerate(dir_windows):\n",
    "    file_path = path_saved + doe_name + '/' + window_name + '/inferencers/window_000t.vti'\n",
    "    vti_data = vti_reader(file_path)\n",
    "    vti_slurry = vti_data[vti_data['alpha']==0.0].dropna()\n",
    "\n",
    "    left_max_y = vti_slurry[vti_slurry['x']<0.0]['y'].max()\n",
    "    right_max_y = vti_slurry[vti_slurry['x']>Lf]['y'].max()\n",
    "\n",
    "    pnt_left_up = vti_slurry[(vti_slurry['x']<0.0) & (vti_slurry['y']==left_max_y)]['x'].min() * L_ref\n",
    "    pnt_left_dn = vti_slurry[vti_slurry['y']==0.0]['x'].min() * L_ref\n",
    "    pnt_right_up = vti_slurry[(vti_slurry['x']>Lf) & (vti_slurry['y'] == right_max_y)]['x'].iloc[0] * L_ref\n",
    "    #pnt_right_dn = vti_slurry[vti_slurry['y']==0.0]['x'].min() * L_ref\n",
    "    pnt_left_dn_calc = pnt_left_up + H0/np.tan(np.radians(50))*L_ref\n",
    "\n",
    "\n",
    "    pred_array = np.array([pnt_left_up,pnt_left_dn_calc,pnt_right_up])\n",
    "    error = np.abs(( pred_array - doe_truth.values) / doe_truth.values) * 100\n",
    "    \n",
    "\n",
    "    df1 = pd.DataFrame([[doe_name,window_name] + list(np.hstack([pred_array, error.squeeze()]))],index=[i],\n",
    "                       columns=['DOE','window','pred_contact1x','pred_contact2x','pred_contact3x','err1x','err2x','err3x'])\n",
    "    \n",
    "    result_df = pd.concat([result_df,df1],axis=0)"
   ]
  },
  {
   "cell_type": "code",
   "execution_count": null,
   "metadata": {},
   "outputs": [],
   "source": [
    "result_df"
   ]
  },
  {
   "cell_type": "code",
   "execution_count": null,
   "metadata": {},
   "outputs": [],
   "source": [
    "doe_truth"
   ]
  },
  {
   "cell_type": "code",
   "execution_count": null,
   "metadata": {},
   "outputs": [],
   "source": []
  }
 ],
 "metadata": {
  "kernelspec": {
   "display_name": "base",
   "language": "python",
   "name": "python3"
  },
  "language_info": {
   "codemirror_mode": {
    "name": "ipython",
    "version": 3
   },
   "file_extension": ".py",
   "mimetype": "text/x-python",
   "name": "python",
   "nbconvert_exporter": "python",
   "pygments_lexer": "ipython3",
   "version": "3.10.12"
  },
  "orig_nbformat": 4
 },
 "nbformat": 4,
 "nbformat_minor": 2
}
