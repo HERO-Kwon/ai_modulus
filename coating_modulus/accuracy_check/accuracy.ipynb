{
 "cells": [
  {
   "cell_type": "code",
   "execution_count": 13,
   "metadata": {},
   "outputs": [],
   "source": [
    "import numpy as np\n",
    "import pandas as pd\n",
    "import matplotlib.pyplot as plt\n",
    "import os\n",
    "\n",
    "import vtk\n",
    "import math\n",
    "from vtk.util import numpy_support\n",
    "\n",
    "from params import *\n",
    "\n"
   ]
  },
  {
   "cell_type": "code",
   "execution_count": 28,
   "metadata": {},
   "outputs": [],
   "source": [
    "def vti_reader(file_path):\n",
    "    reader = vtk.vtkXMLImageDataReader()\n",
    "    reader.SetFileName(file_path)\n",
    "    reader.Update()\n",
    "    data = reader.GetOutput()\n",
    "    \n",
    "    # vtk res\n",
    "    dataset = pd.DataFrame(np.array([numpy_support.vtk_to_numpy(data.GetPointData().GetArray(i)) for i in range(data.GetPointData().GetNumberOfArrays())])).transpose()\n",
    "    \n",
    "    dataset.columns=[data.GetPointData().GetArrayName(i) for i in range(data.GetPointData().GetNumberOfArrays())]\n",
    "    \n",
    "    # vtk coord\n",
    "    dimensions = data.GetDimensions()\n",
    "    spacing=data.GetSpacing()\n",
    "    origin=data.GetOrigin()\n",
    "    \n",
    "    coordinates=[]\n",
    "    \n",
    "    for k in range(dimensions[2]):\n",
    "        for j in range(dimensions[1]):\n",
    "            for i in range(dimensions[0]):\n",
    "                x = origin[0] + i * spacing[0]\n",
    "                y = origin[1] + j * spacing[1]\n",
    "                z = origin[2] + k * spacing[2]\n",
    "                coordinates.append((x,y,z))\n",
    "    dt_coordinates = pd.DataFrame(coordinates, columns=['x','y','z'])\n",
    "    \n",
    "    # result coord merge\n",
    "    return pd.merge(dt_coordinates, dataset, left_index=True, right_index=True)"
   ]
  },
  {
   "cell_type": "code",
   "execution_count": 29,
   "metadata": {},
   "outputs": [],
   "source": [
    "path_saved = 'D:\\\\coating_modulus\\\\outputs\\\\'\n",
    "doe_name = 'twophase_coat_v7_2'"
   ]
  },
  {
   "cell_type": "code",
   "execution_count": 30,
   "metadata": {},
   "outputs": [
    {
     "data": {
      "text/plain": [
       "['window_0000',\n",
       " 'window_0001',\n",
       " 'window_0002',\n",
       " 'window_0003',\n",
       " 'window_0004',\n",
       " 'window_0005',\n",
       " 'window_0006',\n",
       " 'window_0007',\n",
       " 'window_0008',\n",
       " 'window_0009',\n",
       " 'window_0010',\n",
       " 'window_0011']"
      ]
     },
     "execution_count": 30,
     "metadata": {},
     "output_type": "execute_result"
    }
   ],
   "source": [
    "dirnames = os.listdir(path_saved+doe_name)\n",
    "# 'windows'를 포함하는 이름만 선택\n",
    "dir_windows = [name for name in dirnames if 'window' in name.lower()]\n",
    "dir_windows.sort()\n",
    "dir_windows"
   ]
  },
  {
   "cell_type": "code",
   "execution_count": 33,
   "metadata": {},
   "outputs": [
    {
     "name": "stderr",
     "output_type": "stream",
     "text": [
      "c:\\ProgramData\\anaconda3\\Lib\\site-packages\\vtkmodules\\util\\numpy_support.py:74: FutureWarning: In the future `np.bool` will be defined as the corresponding NumPy scalar.\n",
      "  _vtk_np = {vtkConstants.VTK_BIT:numpy.bool,\n"
     ]
    },
    {
     "ename": "AttributeError",
     "evalue": "module 'numpy' has no attribute 'bool'.\n`np.bool` was a deprecated alias for the builtin `bool`. To avoid this error in existing code, use `bool` by itself. Doing this will not modify any behavior and is safe. If you specifically wanted the numpy scalar type, use `np.bool_` here.\nThe aliases was originally deprecated in NumPy 1.20; for more details and guidance see the original release note at:\n    https://numpy.org/devdocs/release/1.20.0-notes.html#deprecations",
     "output_type": "error",
     "traceback": [
      "\u001b[1;31m---------------------------------------------------------------------------\u001b[0m",
      "\u001b[1;31mAttributeError\u001b[0m                            Traceback (most recent call last)",
      "Cell \u001b[1;32mIn[33], line 2\u001b[0m\n\u001b[0;32m      1\u001b[0m file_path \u001b[39m=\u001b[39m path_saved \u001b[39m+\u001b[39m doe_name \u001b[39m+\u001b[39m \u001b[39m'\u001b[39m\u001b[39m\\\\\u001b[39;00m\u001b[39m'\u001b[39m \u001b[39m+\u001b[39m dir_windows[\u001b[39m0\u001b[39m] \u001b[39m+\u001b[39m \u001b[39m'\u001b[39m\u001b[39m\\\\\u001b[39;00m\u001b[39minferencers\u001b[39m\u001b[39m\\\\\u001b[39;00m\u001b[39mwindow_000t.vti\u001b[39m\u001b[39m'\u001b[39m\n\u001b[1;32m----> 2\u001b[0m vti_data \u001b[39m=\u001b[39m vti_reader(file_path)\n",
      "Cell \u001b[1;32mIn[28], line 8\u001b[0m, in \u001b[0;36mvti_reader\u001b[1;34m(file_path)\u001b[0m\n\u001b[0;32m      5\u001b[0m data \u001b[39m=\u001b[39m reader\u001b[39m.\u001b[39mGetOutput()\n\u001b[0;32m      7\u001b[0m \u001b[39m# vtk res\u001b[39;00m\n\u001b[1;32m----> 8\u001b[0m dataset \u001b[39m=\u001b[39m pd\u001b[39m.\u001b[39mDataFrame(np\u001b[39m.\u001b[39marray([numpy_support\u001b[39m.\u001b[39mvtk_to_numpy(data\u001b[39m.\u001b[39mGetPointData()\u001b[39m.\u001b[39mGetArray(i)) \u001b[39mfor\u001b[39;00m i \u001b[39min\u001b[39;00m \u001b[39mrange\u001b[39m(data\u001b[39m.\u001b[39mGetPointData()\u001b[39m.\u001b[39mGetNumberOfArrays())]))\u001b[39m.\u001b[39mtranspose()\n\u001b[0;32m     10\u001b[0m dataset\u001b[39m.\u001b[39mcolumns\u001b[39m=\u001b[39m[data\u001b[39m.\u001b[39mGetPointData()\u001b[39m.\u001b[39mGetArrayName(i) \u001b[39mfor\u001b[39;00m i \u001b[39min\u001b[39;00m \u001b[39mrange\u001b[39m(data\u001b[39m.\u001b[39mGetPointData()\u001b[39m.\u001b[39mGetNumberOfArrays())]\n\u001b[0;32m     12\u001b[0m \u001b[39m# vtk coord\u001b[39;00m\n",
      "Cell \u001b[1;32mIn[28], line 8\u001b[0m, in \u001b[0;36m<listcomp>\u001b[1;34m(.0)\u001b[0m\n\u001b[0;32m      5\u001b[0m data \u001b[39m=\u001b[39m reader\u001b[39m.\u001b[39mGetOutput()\n\u001b[0;32m      7\u001b[0m \u001b[39m# vtk res\u001b[39;00m\n\u001b[1;32m----> 8\u001b[0m dataset \u001b[39m=\u001b[39m pd\u001b[39m.\u001b[39mDataFrame(np\u001b[39m.\u001b[39marray([numpy_support\u001b[39m.\u001b[39mvtk_to_numpy(data\u001b[39m.\u001b[39mGetPointData()\u001b[39m.\u001b[39mGetArray(i)) \u001b[39mfor\u001b[39;00m i \u001b[39min\u001b[39;00m \u001b[39mrange\u001b[39m(data\u001b[39m.\u001b[39mGetPointData()\u001b[39m.\u001b[39mGetNumberOfArrays())]))\u001b[39m.\u001b[39mtranspose()\n\u001b[0;32m     10\u001b[0m dataset\u001b[39m.\u001b[39mcolumns\u001b[39m=\u001b[39m[data\u001b[39m.\u001b[39mGetPointData()\u001b[39m.\u001b[39mGetArrayName(i) \u001b[39mfor\u001b[39;00m i \u001b[39min\u001b[39;00m \u001b[39mrange\u001b[39m(data\u001b[39m.\u001b[39mGetPointData()\u001b[39m.\u001b[39mGetNumberOfArrays())]\n\u001b[0;32m     12\u001b[0m \u001b[39m# vtk coord\u001b[39;00m\n",
      "File \u001b[1;32mc:\\ProgramData\\anaconda3\\Lib\\site-packages\\vtkmodules\\util\\numpy_support.py:216\u001b[0m, in \u001b[0;36mvtk_to_numpy\u001b[1;34m(vtk_array)\u001b[0m\n\u001b[0;32m    201\u001b[0m \u001b[39m\u001b[39m\u001b[39m\"\"\"Converts a VTK data array to a numpy array.\u001b[39;00m\n\u001b[0;32m    202\u001b[0m \n\u001b[0;32m    203\u001b[0m \u001b[39mGiven a subclass of vtkDataArray, this function returns an\u001b[39;00m\n\u001b[1;32m   (...)\u001b[0m\n\u001b[0;32m    213\u001b[0m \n\u001b[0;32m    214\u001b[0m \u001b[39m\"\"\"\u001b[39;00m\n\u001b[0;32m    215\u001b[0m typ \u001b[39m=\u001b[39m vtk_array\u001b[39m.\u001b[39mGetDataType()\n\u001b[1;32m--> 216\u001b[0m \u001b[39massert\u001b[39;00m typ \u001b[39min\u001b[39;00m get_vtk_to_numpy_typemap()\u001b[39m.\u001b[39mkeys(), \\\n\u001b[0;32m    217\u001b[0m        \u001b[39m\"\u001b[39m\u001b[39mUnsupported array type \u001b[39m\u001b[39m%s\u001b[39;00m\u001b[39m\"\u001b[39m\u001b[39m%\u001b[39mtyp\n\u001b[0;32m    218\u001b[0m \u001b[39massert\u001b[39;00m typ \u001b[39m!=\u001b[39m vtkConstants\u001b[39m.\u001b[39mVTK_BIT, \u001b[39m'\u001b[39m\u001b[39mBit arrays are not supported.\u001b[39m\u001b[39m'\u001b[39m\n\u001b[0;32m    220\u001b[0m shape \u001b[39m=\u001b[39m vtk_array\u001b[39m.\u001b[39mGetNumberOfTuples(), \\\n\u001b[0;32m    221\u001b[0m         vtk_array\u001b[39m.\u001b[39mGetNumberOfComponents()\n",
      "File \u001b[1;32mc:\\ProgramData\\anaconda3\\Lib\\site-packages\\vtkmodules\\util\\numpy_support.py:74\u001b[0m, in \u001b[0;36mget_vtk_to_numpy_typemap\u001b[1;34m()\u001b[0m\n\u001b[0;32m     72\u001b[0m \u001b[39mdef\u001b[39;00m \u001b[39mget_vtk_to_numpy_typemap\u001b[39m():\n\u001b[0;32m     73\u001b[0m \u001b[39m    \u001b[39m\u001b[39m\"\"\"Returns the VTK array type to numpy array type mapping.\"\"\"\u001b[39;00m\n\u001b[1;32m---> 74\u001b[0m     _vtk_np \u001b[39m=\u001b[39m {vtkConstants\u001b[39m.\u001b[39mVTK_BIT:numpy\u001b[39m.\u001b[39mbool,\n\u001b[0;32m     75\u001b[0m                 vtkConstants\u001b[39m.\u001b[39mVTK_CHAR:numpy\u001b[39m.\u001b[39mint8,\n\u001b[0;32m     76\u001b[0m                 vtkConstants\u001b[39m.\u001b[39mVTK_SIGNED_CHAR:numpy\u001b[39m.\u001b[39mint8,\n\u001b[0;32m     77\u001b[0m                 vtkConstants\u001b[39m.\u001b[39mVTK_UNSIGNED_CHAR:numpy\u001b[39m.\u001b[39muint8,\n\u001b[0;32m     78\u001b[0m                 vtkConstants\u001b[39m.\u001b[39mVTK_SHORT:numpy\u001b[39m.\u001b[39mint16,\n\u001b[0;32m     79\u001b[0m                 vtkConstants\u001b[39m.\u001b[39mVTK_UNSIGNED_SHORT:numpy\u001b[39m.\u001b[39muint16,\n\u001b[0;32m     80\u001b[0m                 vtkConstants\u001b[39m.\u001b[39mVTK_INT:numpy\u001b[39m.\u001b[39mint32,\n\u001b[0;32m     81\u001b[0m                 vtkConstants\u001b[39m.\u001b[39mVTK_UNSIGNED_INT:numpy\u001b[39m.\u001b[39muint32,\n\u001b[0;32m     82\u001b[0m                 vtkConstants\u001b[39m.\u001b[39mVTK_LONG:LONG_TYPE_CODE,\n\u001b[0;32m     83\u001b[0m                 vtkConstants\u001b[39m.\u001b[39mVTK_LONG_LONG:numpy\u001b[39m.\u001b[39mint64,\n\u001b[0;32m     84\u001b[0m                 vtkConstants\u001b[39m.\u001b[39mVTK_UNSIGNED_LONG:ULONG_TYPE_CODE,\n\u001b[0;32m     85\u001b[0m                 vtkConstants\u001b[39m.\u001b[39mVTK_UNSIGNED_LONG_LONG:numpy\u001b[39m.\u001b[39muint64,\n\u001b[0;32m     86\u001b[0m                 vtkConstants\u001b[39m.\u001b[39mVTK_ID_TYPE:ID_TYPE_CODE,\n\u001b[0;32m     87\u001b[0m                 vtkConstants\u001b[39m.\u001b[39mVTK_FLOAT:numpy\u001b[39m.\u001b[39mfloat32,\n\u001b[0;32m     88\u001b[0m                 vtkConstants\u001b[39m.\u001b[39mVTK_DOUBLE:numpy\u001b[39m.\u001b[39mfloat64}\n\u001b[0;32m     89\u001b[0m     \u001b[39mreturn\u001b[39;00m _vtk_np\n",
      "File \u001b[1;32mc:\\ProgramData\\anaconda3\\Lib\\site-packages\\numpy\\__init__.py:305\u001b[0m, in \u001b[0;36m__getattr__\u001b[1;34m(attr)\u001b[0m\n\u001b[0;32m    300\u001b[0m     warnings\u001b[39m.\u001b[39mwarn(\n\u001b[0;32m    301\u001b[0m         \u001b[39mf\u001b[39m\u001b[39m\"\u001b[39m\u001b[39mIn the future `np.\u001b[39m\u001b[39m{\u001b[39;00mattr\u001b[39m}\u001b[39;00m\u001b[39m` will be defined as the \u001b[39m\u001b[39m\"\u001b[39m\n\u001b[0;32m    302\u001b[0m         \u001b[39m\"\u001b[39m\u001b[39mcorresponding NumPy scalar.\u001b[39m\u001b[39m\"\u001b[39m, \u001b[39mFutureWarning\u001b[39;00m, stacklevel\u001b[39m=\u001b[39m\u001b[39m2\u001b[39m)\n\u001b[0;32m    304\u001b[0m \u001b[39mif\u001b[39;00m attr \u001b[39min\u001b[39;00m __former_attrs__:\n\u001b[1;32m--> 305\u001b[0m     \u001b[39mraise\u001b[39;00m \u001b[39mAttributeError\u001b[39;00m(__former_attrs__[attr])\n\u001b[0;32m    307\u001b[0m \u001b[39m# Importing Tester requires importing all of UnitTest which is not a\u001b[39;00m\n\u001b[0;32m    308\u001b[0m \u001b[39m# cheap import Since it is mainly used in test suits, we lazy import it\u001b[39;00m\n\u001b[0;32m    309\u001b[0m \u001b[39m# here to save on the order of 10 ms of import time for most users\u001b[39;00m\n\u001b[0;32m    310\u001b[0m \u001b[39m#\u001b[39;00m\n\u001b[0;32m    311\u001b[0m \u001b[39m# The previous way Tester was imported also had a side effect of adding\u001b[39;00m\n\u001b[0;32m    312\u001b[0m \u001b[39m# the full `numpy.testing` namespace\u001b[39;00m\n\u001b[0;32m    313\u001b[0m \u001b[39mif\u001b[39;00m attr \u001b[39m==\u001b[39m \u001b[39m'\u001b[39m\u001b[39mtesting\u001b[39m\u001b[39m'\u001b[39m:\n",
      "\u001b[1;31mAttributeError\u001b[0m: module 'numpy' has no attribute 'bool'.\n`np.bool` was a deprecated alias for the builtin `bool`. To avoid this error in existing code, use `bool` by itself. Doing this will not modify any behavior and is safe. If you specifically wanted the numpy scalar type, use `np.bool_` here.\nThe aliases was originally deprecated in NumPy 1.20; for more details and guidance see the original release note at:\n    https://numpy.org/devdocs/release/1.20.0-notes.html#deprecations"
     ]
    }
   ],
   "source": [
    "file_path = path_saved + doe_name + '\\\\' + dir_windows[0] + '\\\\inferencers\\\\window_000t.vti'\n",
    "vti_data = vti_reader(file_path)"
   ]
  },
  {
   "cell_type": "code",
   "execution_count": 36,
   "metadata": {},
   "outputs": [],
   "source": [
    "    reader = vtk.vtkXMLImageDataReader()\n",
    "    reader.SetFileName(file_path)\n",
    "    reader.Update()\n",
    "    data = reader.GetOutput()\n",
    "    \n",
    "    # vtk res\n",
    "    #dataset = pd.DataFrame(np.array([numpy_support.vtk_to_numpy(data.GetPointData().GetArray(i)) for i in range(data.GetPointData().GetNumberOfArrays())])).transpose()\n"
   ]
  },
  {
   "cell_type": "code",
   "execution_count": 38,
   "metadata": {},
   "outputs": [
    {
     "name": "stderr",
     "output_type": "stream",
     "text": [
      "c:\\ProgramData\\anaconda3\\Lib\\site-packages\\vtkmodules\\util\\numpy_support.py:74: FutureWarning: In the future `np.bool` will be defined as the corresponding NumPy scalar.\n",
      "  _vtk_np = {vtkConstants.VTK_BIT:numpy.bool,\n"
     ]
    },
    {
     "ename": "AttributeError",
     "evalue": "module 'numpy' has no attribute 'bool'.\n`np.bool` was a deprecated alias for the builtin `bool`. To avoid this error in existing code, use `bool` by itself. Doing this will not modify any behavior and is safe. If you specifically wanted the numpy scalar type, use `np.bool_` here.\nThe aliases was originally deprecated in NumPy 1.20; for more details and guidance see the original release note at:\n    https://numpy.org/devdocs/release/1.20.0-notes.html#deprecations",
     "output_type": "error",
     "traceback": [
      "\u001b[1;31m---------------------------------------------------------------------------\u001b[0m",
      "\u001b[1;31mAttributeError\u001b[0m                            Traceback (most recent call last)",
      "Cell \u001b[1;32mIn[38], line 1\u001b[0m\n\u001b[1;32m----> 1\u001b[0m numpy_support\u001b[39m.\u001b[39mvtk_to_numpy(data\u001b[39m.\u001b[39mGetPointData()\u001b[39m.\u001b[39mGetArray(\u001b[39m0\u001b[39m))\n",
      "File \u001b[1;32mc:\\ProgramData\\anaconda3\\Lib\\site-packages\\vtkmodules\\util\\numpy_support.py:216\u001b[0m, in \u001b[0;36mvtk_to_numpy\u001b[1;34m(vtk_array)\u001b[0m\n\u001b[0;32m    201\u001b[0m \u001b[39m\u001b[39m\u001b[39m\"\"\"Converts a VTK data array to a numpy array.\u001b[39;00m\n\u001b[0;32m    202\u001b[0m \n\u001b[0;32m    203\u001b[0m \u001b[39mGiven a subclass of vtkDataArray, this function returns an\u001b[39;00m\n\u001b[1;32m   (...)\u001b[0m\n\u001b[0;32m    213\u001b[0m \n\u001b[0;32m    214\u001b[0m \u001b[39m\"\"\"\u001b[39;00m\n\u001b[0;32m    215\u001b[0m typ \u001b[39m=\u001b[39m vtk_array\u001b[39m.\u001b[39mGetDataType()\n\u001b[1;32m--> 216\u001b[0m \u001b[39massert\u001b[39;00m typ \u001b[39min\u001b[39;00m get_vtk_to_numpy_typemap()\u001b[39m.\u001b[39mkeys(), \\\n\u001b[0;32m    217\u001b[0m        \u001b[39m\"\u001b[39m\u001b[39mUnsupported array type \u001b[39m\u001b[39m%s\u001b[39;00m\u001b[39m\"\u001b[39m\u001b[39m%\u001b[39mtyp\n\u001b[0;32m    218\u001b[0m \u001b[39massert\u001b[39;00m typ \u001b[39m!=\u001b[39m vtkConstants\u001b[39m.\u001b[39mVTK_BIT, \u001b[39m'\u001b[39m\u001b[39mBit arrays are not supported.\u001b[39m\u001b[39m'\u001b[39m\n\u001b[0;32m    220\u001b[0m shape \u001b[39m=\u001b[39m vtk_array\u001b[39m.\u001b[39mGetNumberOfTuples(), \\\n\u001b[0;32m    221\u001b[0m         vtk_array\u001b[39m.\u001b[39mGetNumberOfComponents()\n",
      "File \u001b[1;32mc:\\ProgramData\\anaconda3\\Lib\\site-packages\\vtkmodules\\util\\numpy_support.py:74\u001b[0m, in \u001b[0;36mget_vtk_to_numpy_typemap\u001b[1;34m()\u001b[0m\n\u001b[0;32m     72\u001b[0m \u001b[39mdef\u001b[39;00m \u001b[39mget_vtk_to_numpy_typemap\u001b[39m():\n\u001b[0;32m     73\u001b[0m \u001b[39m    \u001b[39m\u001b[39m\"\"\"Returns the VTK array type to numpy array type mapping.\"\"\"\u001b[39;00m\n\u001b[1;32m---> 74\u001b[0m     _vtk_np \u001b[39m=\u001b[39m {vtkConstants\u001b[39m.\u001b[39mVTK_BIT:numpy\u001b[39m.\u001b[39mbool,\n\u001b[0;32m     75\u001b[0m                 vtkConstants\u001b[39m.\u001b[39mVTK_CHAR:numpy\u001b[39m.\u001b[39mint8,\n\u001b[0;32m     76\u001b[0m                 vtkConstants\u001b[39m.\u001b[39mVTK_SIGNED_CHAR:numpy\u001b[39m.\u001b[39mint8,\n\u001b[0;32m     77\u001b[0m                 vtkConstants\u001b[39m.\u001b[39mVTK_UNSIGNED_CHAR:numpy\u001b[39m.\u001b[39muint8,\n\u001b[0;32m     78\u001b[0m                 vtkConstants\u001b[39m.\u001b[39mVTK_SHORT:numpy\u001b[39m.\u001b[39mint16,\n\u001b[0;32m     79\u001b[0m                 vtkConstants\u001b[39m.\u001b[39mVTK_UNSIGNED_SHORT:numpy\u001b[39m.\u001b[39muint16,\n\u001b[0;32m     80\u001b[0m                 vtkConstants\u001b[39m.\u001b[39mVTK_INT:numpy\u001b[39m.\u001b[39mint32,\n\u001b[0;32m     81\u001b[0m                 vtkConstants\u001b[39m.\u001b[39mVTK_UNSIGNED_INT:numpy\u001b[39m.\u001b[39muint32,\n\u001b[0;32m     82\u001b[0m                 vtkConstants\u001b[39m.\u001b[39mVTK_LONG:LONG_TYPE_CODE,\n\u001b[0;32m     83\u001b[0m                 vtkConstants\u001b[39m.\u001b[39mVTK_LONG_LONG:numpy\u001b[39m.\u001b[39mint64,\n\u001b[0;32m     84\u001b[0m                 vtkConstants\u001b[39m.\u001b[39mVTK_UNSIGNED_LONG:ULONG_TYPE_CODE,\n\u001b[0;32m     85\u001b[0m                 vtkConstants\u001b[39m.\u001b[39mVTK_UNSIGNED_LONG_LONG:numpy\u001b[39m.\u001b[39muint64,\n\u001b[0;32m     86\u001b[0m                 vtkConstants\u001b[39m.\u001b[39mVTK_ID_TYPE:ID_TYPE_CODE,\n\u001b[0;32m     87\u001b[0m                 vtkConstants\u001b[39m.\u001b[39mVTK_FLOAT:numpy\u001b[39m.\u001b[39mfloat32,\n\u001b[0;32m     88\u001b[0m                 vtkConstants\u001b[39m.\u001b[39mVTK_DOUBLE:numpy\u001b[39m.\u001b[39mfloat64}\n\u001b[0;32m     89\u001b[0m     \u001b[39mreturn\u001b[39;00m _vtk_np\n",
      "File \u001b[1;32mc:\\ProgramData\\anaconda3\\Lib\\site-packages\\numpy\\__init__.py:305\u001b[0m, in \u001b[0;36m__getattr__\u001b[1;34m(attr)\u001b[0m\n\u001b[0;32m    300\u001b[0m     warnings\u001b[39m.\u001b[39mwarn(\n\u001b[0;32m    301\u001b[0m         \u001b[39mf\u001b[39m\u001b[39m\"\u001b[39m\u001b[39mIn the future `np.\u001b[39m\u001b[39m{\u001b[39;00mattr\u001b[39m}\u001b[39;00m\u001b[39m` will be defined as the \u001b[39m\u001b[39m\"\u001b[39m\n\u001b[0;32m    302\u001b[0m         \u001b[39m\"\u001b[39m\u001b[39mcorresponding NumPy scalar.\u001b[39m\u001b[39m\"\u001b[39m, \u001b[39mFutureWarning\u001b[39;00m, stacklevel\u001b[39m=\u001b[39m\u001b[39m2\u001b[39m)\n\u001b[0;32m    304\u001b[0m \u001b[39mif\u001b[39;00m attr \u001b[39min\u001b[39;00m __former_attrs__:\n\u001b[1;32m--> 305\u001b[0m     \u001b[39mraise\u001b[39;00m \u001b[39mAttributeError\u001b[39;00m(__former_attrs__[attr])\n\u001b[0;32m    307\u001b[0m \u001b[39m# Importing Tester requires importing all of UnitTest which is not a\u001b[39;00m\n\u001b[0;32m    308\u001b[0m \u001b[39m# cheap import Since it is mainly used in test suits, we lazy import it\u001b[39;00m\n\u001b[0;32m    309\u001b[0m \u001b[39m# here to save on the order of 10 ms of import time for most users\u001b[39;00m\n\u001b[0;32m    310\u001b[0m \u001b[39m#\u001b[39;00m\n\u001b[0;32m    311\u001b[0m \u001b[39m# The previous way Tester was imported also had a side effect of adding\u001b[39;00m\n\u001b[0;32m    312\u001b[0m \u001b[39m# the full `numpy.testing` namespace\u001b[39;00m\n\u001b[0;32m    313\u001b[0m \u001b[39mif\u001b[39;00m attr \u001b[39m==\u001b[39m \u001b[39m'\u001b[39m\u001b[39mtesting\u001b[39m\u001b[39m'\u001b[39m:\n",
      "\u001b[1;31mAttributeError\u001b[0m: module 'numpy' has no attribute 'bool'.\n`np.bool` was a deprecated alias for the builtin `bool`. To avoid this error in existing code, use `bool` by itself. Doing this will not modify any behavior and is safe. If you specifically wanted the numpy scalar type, use `np.bool_` here.\nThe aliases was originally deprecated in NumPy 1.20; for more details and guidance see the original release note at:\n    https://numpy.org/devdocs/release/1.20.0-notes.html#deprecations"
     ]
    }
   ],
   "source": [
    "numpy_support.vtk_to_numpy(data.GetPointData().GetArray(0))"
   ]
  },
  {
   "cell_type": "code",
   "execution_count": null,
   "metadata": {},
   "outputs": [],
   "source": []
  }
 ],
 "metadata": {
  "kernelspec": {
   "display_name": "base",
   "language": "python",
   "name": "python3"
  },
  "language_info": {
   "codemirror_mode": {
    "name": "ipython",
    "version": 3
   },
   "file_extension": ".py",
   "mimetype": "text/x-python",
   "name": "python",
   "nbconvert_exporter": "python",
   "pygments_lexer": "ipython3",
   "version": "3.11.4"
  },
  "orig_nbformat": 4
 },
 "nbformat": 4,
 "nbformat_minor": 2
}
