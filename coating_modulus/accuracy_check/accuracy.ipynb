{
 "cells": [
  {
   "cell_type": "code",
   "execution_count": 1,
   "metadata": {},
   "outputs": [],
   "source": [
    "import numpy as np\n",
    "import pandas as pd\n",
    "import matplotlib.pyplot as plt\n",
    "import os\n",
    "\n",
    "import vtk\n",
    "import math\n",
    "from vtk.util import numpy_support\n",
    "\n",
    "from params import *\n",
    "\n"
   ]
  },
  {
   "cell_type": "code",
   "execution_count": 2,
   "metadata": {},
   "outputs": [],
   "source": [
    "def vti_reader(file_path):\n",
    "    reader = vtk.vtkXMLImageDataReader()\n",
    "    reader.SetFileName(file_path)\n",
    "    reader.Update()\n",
    "    data = reader.GetOutput()\n",
    "    \n",
    "    # vtk res\n",
    "    dataset = pd.DataFrame(np.array([numpy_support.vtk_to_numpy(data.GetPointData().GetArray(i)) for i in range(data.GetPointData().GetNumberOfArrays())])).transpose()\n",
    "    \n",
    "    dataset.columns=[data.GetPointData().GetArrayName(i) for i in range(data.GetPointData().GetNumberOfArrays())]\n",
    "    \n",
    "    # vtk coord\n",
    "    dimensions = data.GetDimensions()\n",
    "    spacing=data.GetSpacing()\n",
    "    origin=data.GetOrigin()\n",
    "    \n",
    "    coordinates=[]\n",
    "    \n",
    "    for k in range(dimensions[2]):\n",
    "        for j in range(dimensions[1]):\n",
    "            for i in range(dimensions[0]):\n",
    "                x = origin[0] + i * spacing[0]\n",
    "                y = origin[1] + j * spacing[1]\n",
    "                z = origin[2] + k * spacing[2]\n",
    "                coordinates.append((x,y,z))\n",
    "    dt_coordinates = pd.DataFrame(coordinates, columns=['x','y','z'])\n",
    "    \n",
    "    # result coord merge\n",
    "    return pd.merge(dt_coordinates, dataset, left_index=True, right_index=True)"
   ]
  },
  {
   "cell_type": "code",
   "execution_count": 3,
   "metadata": {},
   "outputs": [],
   "source": [
    "path_saved = '/home/hero/Git/ai_modulus/coating_modulus/outputs/'\n",
    "doe_name = 'twophase_coat_v7_1'"
   ]
  },
  {
   "cell_type": "code",
   "execution_count": 4,
   "metadata": {},
   "outputs": [],
   "source": [
    "dirnames = os.listdir(path_saved+doe_name)\n",
    "# 'windows'를 포함하는 이름만 선택\n",
    "dir_windows = [name for name in dirnames if 'window' in name.lower()]\n",
    "dir_windows.sort()"
   ]
  },
  {
   "cell_type": "code",
   "execution_count": 5,
   "metadata": {},
   "outputs": [
    {
     "data": {
      "text/plain": [
       "['window_0000',\n",
       " 'window_0001',\n",
       " 'window_0002',\n",
       " 'window_0003',\n",
       " 'window_0004',\n",
       " 'window_0005',\n",
       " 'window_0006',\n",
       " 'window_0007',\n",
       " 'window_0008',\n",
       " 'window_0009',\n",
       " 'window_0010',\n",
       " 'window_0011',\n",
       " 'window_0012',\n",
       " 'window_0013',\n",
       " 'window_0014']"
      ]
     },
     "execution_count": 5,
     "metadata": {},
     "output_type": "execute_result"
    }
   ],
   "source": [
    "dir_windows"
   ]
  },
  {
   "cell_type": "code",
   "execution_count": 6,
   "metadata": {},
   "outputs": [],
   "source": [
    "file_path = path_saved + doe_name + '/' + dir_windows[13] + '/inferencers/window_000t.vti'\n",
    "vti_data = vti_reader(file_path)"
   ]
  },
  {
   "cell_type": "code",
   "execution_count": 7,
   "metadata": {},
   "outputs": [],
   "source": [
    "vti_slurry = vti_data[vti_data['alpha']==0.0].dropna()\n",
    "\n",
    "left_max_y = vti_slurry[vti_slurry['x']<0.0]['y'].max()\n",
    "\n",
    "pnt_left_up = vti_slurry[(vti_slurry['x']<0.0) & (vti_slurry['y']==left_max_y)]['x'].min() * L_ref\n",
    "pnt_left_dn = vti_slurry[vti_slurry['y']==0.0]['x'].min() * L_ref\n",
    "pnt_right_up = vti_slurry[vti_slurry['y'] == vti_slurry['y'].max()]['x'].iloc[0] * L_ref\n",
    "pnt_right_dn = vti_slurry[vti_slurry['y']==0.0]['x'].min() * L_ref\n"
   ]
  },
  {
   "cell_type": "code",
   "execution_count": 8,
   "metadata": {},
   "outputs": [
    {
     "data": {
      "text/plain": [
       "(-0.00022834645669291342,\n",
       " -0.00020078740157480313,\n",
       " 1.9685039370078705e-05,\n",
       " -0.00020078740157480313)"
      ]
     },
     "execution_count": 8,
     "metadata": {},
     "output_type": "execute_result"
    }
   ],
   "source": [
    "pnt_left_up, pnt_left_dn, pnt_right_up, pnt_right_dn"
   ]
  },
  {
   "cell_type": "code",
   "execution_count": 12,
   "metadata": {},
   "outputs": [
    {
     "data": {
      "text/plain": [
       "16293    0.000020\n",
       "16294    0.000047\n",
       "16295    0.000075\n",
       "16296    0.000102\n",
       "16297    0.000130\n",
       "16298    0.000157\n",
       "16299    0.000185\n",
       "16300    0.000213\n",
       "16301    0.000240\n",
       "16302    0.000268\n",
       "16303    0.000295\n",
       "16304    0.000323\n",
       "16305    0.000350\n",
       "16306    0.000378\n",
       "16307    0.000406\n",
       "16308    0.000433\n",
       "16309    0.000461\n",
       "16310    0.000488\n",
       "Name: x, dtype: float64"
      ]
     },
     "execution_count": 12,
     "metadata": {},
     "output_type": "execute_result"
    }
   ],
   "source": [
    "vti_slurry[vti_slurry['y'] == vti_slurry['y'].max()]['x']*L_ref"
   ]
  },
  {
   "cell_type": "code",
   "execution_count": null,
   "metadata": {},
   "outputs": [],
   "source": []
  }
 ],
 "metadata": {
  "kernelspec": {
   "display_name": "base",
   "language": "python",
   "name": "python3"
  },
  "language_info": {
   "codemirror_mode": {
    "name": "ipython",
    "version": 3
   },
   "file_extension": ".py",
   "mimetype": "text/x-python",
   "name": "python",
   "nbconvert_exporter": "python",
   "pygments_lexer": "ipython3",
   "version": "3.10.12"
  },
  "orig_nbformat": 4
 },
 "nbformat": 4,
 "nbformat_minor": 2
}
