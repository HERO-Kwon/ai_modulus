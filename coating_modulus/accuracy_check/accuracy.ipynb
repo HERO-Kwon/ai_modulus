{
 "cells": [
  {
   "cell_type": "code",
   "execution_count": 1,
   "metadata": {},
   "outputs": [],
   "source": [
    "import numpy as np\n",
    "import pandas as pd\n",
    "import matplotlib.pyplot as plt\n",
    "import os\n",
    "\n",
    "import vtk\n",
    "import math\n",
    "from vtk.util import numpy_support\n",
    "\n",
    "from params import *"
   ]
  },
  {
   "cell_type": "code",
   "execution_count": 2,
   "metadata": {},
   "outputs": [],
   "source": [
    "def vti_reader(file_path):\n",
    "    reader = vtk.vtkXMLImageDataReader()\n",
    "    reader.SetFileName(file_path)\n",
    "    reader.Update()\n",
    "    data = reader.GetOutput()\n",
    "    \n",
    "    # vtk res\n",
    "    dataset = pd.DataFrame(np.array([numpy_support.vtk_to_numpy(data.GetPointData().GetArray(i)) for i in range(data.GetPointData().GetNumberOfArrays())])).transpose()\n",
    "    \n",
    "    dataset.columns=[data.GetPointData().GetArrayName(i) for i in range(data.GetPointData().GetNumberOfArrays())]\n",
    "    \n",
    "    # vtk coord\n",
    "    dimensions = data.GetDimensions()\n",
    "    spacing=data.GetSpacing()\n",
    "    origin=data.GetOrigin()\n",
    "    \n",
    "    coordinates=[]\n",
    "    \n",
    "    for k in range(dimensions[2]):\n",
    "        for j in range(dimensions[1]):\n",
    "            for i in range(dimensions[0]):\n",
    "                x = origin[0] + i * spacing[0]\n",
    "                y = origin[1] + j * spacing[1]\n",
    "                z = origin[2] + k * spacing[2]\n",
    "                coordinates.append((x,y,z))\n",
    "    dt_coordinates = pd.DataFrame(coordinates, columns=['x','y','z'])\n",
    "    \n",
    "    # result coord merge\n",
    "    return pd.merge(dt_coordinates, dataset, left_index=True, right_index=True)"
   ]
  },
  {
   "cell_type": "code",
   "execution_count": 3,
   "metadata": {},
   "outputs": [],
   "source": [
    "path_saved = '/home/hero/Git/ai_modulus/coating_modulus/outputs/'\n",
    "doe_name = 'twophase_coat_v7_2'"
   ]
  },
  {
   "cell_type": "code",
   "execution_count": 4,
   "metadata": {},
   "outputs": [],
   "source": [
    "truth_df = pd.read_csv('2023_pinn_datamodel_xy.csv')\n",
    "doe_truth = truth_df[truth_df['DOE']=='DOE0'][['contact1x','contact2x','contact3x']]"
   ]
  },
  {
   "cell_type": "code",
   "execution_count": 5,
   "metadata": {},
   "outputs": [],
   "source": [
    "dirnames = os.listdir(path_saved+doe_name)\n",
    "# 'windows'를 포함하는 이름만 선택\n",
    "dir_windows = [name for name in dirnames if 'window' in name.lower()]\n",
    "dir_windows.sort()"
   ]
  },
  {
   "cell_type": "code",
   "execution_count": 6,
   "metadata": {},
   "outputs": [],
   "source": [
    "result_df = pd.DataFrame()"
   ]
  },
  {
   "cell_type": "code",
   "execution_count": 7,
   "metadata": {},
   "outputs": [],
   "source": [
    "for i,window_name in enumerate(dir_windows):\n",
    "    file_path = path_saved + doe_name + '/' + window_name + '/inferencers/window_000t.vti'\n",
    "    vti_data = vti_reader(file_path)\n",
    "    vti_slurry = vti_data[vti_data['alpha']==0.0].dropna()\n",
    "\n",
    "    left_max_y = vti_slurry[vti_slurry['x']<0.0]['y'].max()\n",
    "    right_max_y = vti_slurry[vti_slurry['x']>Lf]['y'].max()\n",
    "\n",
    "    pnt_left_up = vti_slurry[(vti_slurry['x']<0.0) & (vti_slurry['y']==left_max_y)]['x'].min() * L_ref\n",
    "    pnt_left_dn = vti_slurry[vti_slurry['y']==0.0]['x'].min() * L_ref\n",
    "    pnt_right_up = vti_slurry[(vti_slurry['x']>Lf) & (vti_slurry['y'] == right_max_y)]['x'].iloc[0] * L_ref\n",
    "    #pnt_right_dn = vti_slurry[vti_slurry['y']==0.0]['x'].min() * L_ref\n",
    "    pnt_left_dn_calc = pnt_left_up + H0/np.tan(np.radians(50))*L_ref\n",
    "\n",
    "\n",
    "    pred_array = np.array([pnt_left_up,pnt_left_dn_calc,pnt_right_up])\n",
    "    error = np.abs(( pred_array - doe_truth.values) / doe_truth.values) * 100\n",
    "    \n",
    "\n",
    "    df1 = pd.DataFrame([[doe_name,window_name] + list(np.hstack([pred_array, error.squeeze()]))],index=[i],\n",
    "                       columns=['DOE','window','pred_contact1x','pred_contact2x','pred_contact3x','err1x','err2x','err3x'])\n",
    "    \n",
    "    result_df = pd.concat([result_df,df1],axis=0)"
   ]
  },
  {
   "cell_type": "code",
   "execution_count": 8,
   "metadata": {},
   "outputs": [
    {
     "data": {
      "text/html": [
       "<div>\n",
       "<style scoped>\n",
       "    .dataframe tbody tr th:only-of-type {\n",
       "        vertical-align: middle;\n",
       "    }\n",
       "\n",
       "    .dataframe tbody tr th {\n",
       "        vertical-align: top;\n",
       "    }\n",
       "\n",
       "    .dataframe thead th {\n",
       "        text-align: right;\n",
       "    }\n",
       "</style>\n",
       "<table border=\"1\" class=\"dataframe\">\n",
       "  <thead>\n",
       "    <tr style=\"text-align: right;\">\n",
       "      <th></th>\n",
       "      <th>DOE</th>\n",
       "      <th>window</th>\n",
       "      <th>pred_contact1x</th>\n",
       "      <th>pred_contact2x</th>\n",
       "      <th>pred_contact3x</th>\n",
       "      <th>err1x</th>\n",
       "      <th>err2x</th>\n",
       "      <th>err3x</th>\n",
       "    </tr>\n",
       "  </thead>\n",
       "  <tbody>\n",
       "    <tr>\n",
       "      <th>0</th>\n",
       "      <td>twophase_coat_v7_2</td>\n",
       "      <td>window_0000</td>\n",
       "      <td>-0.000228</td>\n",
       "      <td>-0.000061</td>\n",
       "      <td>0.001535</td>\n",
       "      <td>29.955075</td>\n",
       "      <td>61.933000</td>\n",
       "      <td>1.296853</td>\n",
       "    </tr>\n",
       "    <tr>\n",
       "      <th>1</th>\n",
       "      <td>twophase_coat_v7_2</td>\n",
       "      <td>window_0001</td>\n",
       "      <td>-0.000283</td>\n",
       "      <td>-0.000116</td>\n",
       "      <td>0.001535</td>\n",
       "      <td>13.047679</td>\n",
       "      <td>27.267522</td>\n",
       "      <td>1.296853</td>\n",
       "    </tr>\n",
       "    <tr>\n",
       "      <th>2</th>\n",
       "      <td>twophase_coat_v7_2</td>\n",
       "      <td>window_0002</td>\n",
       "      <td>-0.000311</td>\n",
       "      <td>-0.000143</td>\n",
       "      <td>0.001563</td>\n",
       "      <td>4.593981</td>\n",
       "      <td>9.934783</td>\n",
       "      <td>0.474742</td>\n",
       "    </tr>\n",
       "    <tr>\n",
       "      <th>3</th>\n",
       "      <td>twophase_coat_v7_2</td>\n",
       "      <td>window_0003</td>\n",
       "      <td>-0.000339</td>\n",
       "      <td>-0.000171</td>\n",
       "      <td>0.001591</td>\n",
       "      <td>3.859717</td>\n",
       "      <td>7.397957</td>\n",
       "      <td>2.246337</td>\n",
       "    </tr>\n",
       "    <tr>\n",
       "      <th>4</th>\n",
       "      <td>twophase_coat_v7_2</td>\n",
       "      <td>window_0004</td>\n",
       "      <td>-0.000366</td>\n",
       "      <td>-0.000198</td>\n",
       "      <td>0.001591</td>\n",
       "      <td>12.313415</td>\n",
       "      <td>24.730696</td>\n",
       "      <td>2.246337</td>\n",
       "    </tr>\n",
       "  </tbody>\n",
       "</table>\n",
       "</div>"
      ],
      "text/plain": [
       "                  DOE       window  pred_contact1x  pred_contact2x  \\\n",
       "0  twophase_coat_v7_2  window_0000       -0.000228       -0.000061   \n",
       "1  twophase_coat_v7_2  window_0001       -0.000283       -0.000116   \n",
       "2  twophase_coat_v7_2  window_0002       -0.000311       -0.000143   \n",
       "3  twophase_coat_v7_2  window_0003       -0.000339       -0.000171   \n",
       "4  twophase_coat_v7_2  window_0004       -0.000366       -0.000198   \n",
       "\n",
       "   pred_contact3x      err1x      err2x     err3x  \n",
       "0        0.001535  29.955075  61.933000  1.296853  \n",
       "1        0.001535  13.047679  27.267522  1.296853  \n",
       "2        0.001563   4.593981   9.934783  0.474742  \n",
       "3        0.001591   3.859717   7.397957  2.246337  \n",
       "4        0.001591  12.313415  24.730696  2.246337  "
      ]
     },
     "execution_count": 8,
     "metadata": {},
     "output_type": "execute_result"
    }
   ],
   "source": [
    "result_df"
   ]
  },
  {
   "cell_type": "code",
   "execution_count": 9,
   "metadata": {},
   "outputs": [
    {
     "data": {
      "text/html": [
       "<div>\n",
       "<style scoped>\n",
       "    .dataframe tbody tr th:only-of-type {\n",
       "        vertical-align: middle;\n",
       "    }\n",
       "\n",
       "    .dataframe tbody tr th {\n",
       "        vertical-align: top;\n",
       "    }\n",
       "\n",
       "    .dataframe thead th {\n",
       "        text-align: right;\n",
       "    }\n",
       "</style>\n",
       "<table border=\"1\" class=\"dataframe\">\n",
       "  <thead>\n",
       "    <tr style=\"text-align: right;\">\n",
       "      <th></th>\n",
       "      <th>contact1x</th>\n",
       "      <th>contact2x</th>\n",
       "      <th>contact3x</th>\n",
       "    </tr>\n",
       "  </thead>\n",
       "  <tbody>\n",
       "    <tr>\n",
       "      <th>0</th>\n",
       "      <td>-0.000326</td>\n",
       "      <td>-0.000159</td>\n",
       "      <td>0.001556</td>\n",
       "    </tr>\n",
       "  </tbody>\n",
       "</table>\n",
       "</div>"
      ],
      "text/plain": [
       "   contact1x  contact2x  contact3x\n",
       "0  -0.000326  -0.000159   0.001556"
      ]
     },
     "execution_count": 9,
     "metadata": {},
     "output_type": "execute_result"
    }
   ],
   "source": [
    "doe_truth"
   ]
  },
  {
   "cell_type": "code",
   "execution_count": null,
   "metadata": {},
   "outputs": [],
   "source": []
  }
 ],
 "metadata": {
  "kernelspec": {
   "display_name": "base",
   "language": "python",
   "name": "python3"
  },
  "language_info": {
   "codemirror_mode": {
    "name": "ipython",
    "version": 3
   },
   "file_extension": ".py",
   "mimetype": "text/x-python",
   "name": "python",
   "nbconvert_exporter": "python",
   "pygments_lexer": "ipython3",
   "version": "3.10.12"
  },
  "orig_nbformat": 4
 },
 "nbformat": 4,
 "nbformat_minor": 2
}
