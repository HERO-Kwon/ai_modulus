{
 "cells": [
  {
   "cell_type": "code",
   "execution_count": 1,
   "id": "8a75a04f",
   "metadata": {},
   "outputs": [
    {
     "name": "stderr",
     "output_type": "stream",
     "text": [
      "/opt/conda/lib/python3.8/site-packages/tqdm/auto.py:22: TqdmWarning: IProgress not found. Please update jupyter and ipywidgets. See https://ipywidgets.readthedocs.io/en/stable/user_install.html\n",
      "  from .autonotebook import tqdm as notebook_tqdm\n"
     ]
    }
   ],
   "source": [
    "import torch\n",
    "from torch.utils.data import DataLoader, Dataset\n",
    "import numpy as np\n",
    "\n",
    "from sympy import Symbol, Eq, Abs, sin, cos, Or, And\n",
    "\n",
    "import modulus\n",
    "from modulus.hydra import to_absolute_path, instantiate_arch, ModulusConfig\n",
    "from modulus.utils.io import csv_to_dict\n",
    "from modulus.solver import SequentialSolver\n",
    "from modulus.domain import Domain\n",
    "\n",
    "\n",
    "from modulus.models.fully_connected import FullyConnectedArch\n",
    "from modulus.models.moving_time_window import MovingTimeWindowArch\n",
    "from modulus.domain.constraint import (\n",
    "    PointwiseBoundaryConstraint,\n",
    "    PointwiseInteriorConstraint,\n",
    ")\n",
    "from modulus.domain.inferencer import PointVTKInferencer\n",
    "from modulus.utils.io import (\n",
    "    VTKUniformGrid,\n",
    ")\n",
    "from modulus.key import Key\n",
    "from modulus.node import Node\n",
    "from navier_stokes_vof_2d import NavierStokes_VOF\n",
    "from HC_geo import *\n"
   ]
  },
  {
   "cell_type": "code",
   "execution_count": null,
   "id": "8423f66d",
   "metadata": {},
   "outputs": [],
   "source": []
  }
 ],
 "metadata": {
  "kernelspec": {
   "display_name": "Python 3 (ipykernel)",
   "language": "python",
   "name": "python3"
  },
  "language_info": {
   "codemirror_mode": {
    "name": "ipython",
    "version": 3
   },
   "file_extension": ".py",
   "mimetype": "text/x-python",
   "name": "python",
   "nbconvert_exporter": "python",
   "pygments_lexer": "ipython3",
   "version": "3.8.13"
  }
 },
 "nbformat": 4,
 "nbformat_minor": 5
}
